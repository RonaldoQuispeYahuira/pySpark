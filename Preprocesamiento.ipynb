{
  "nbformat": 4,
  "nbformat_minor": 0,
  "metadata": {
    "colab": {
      "name": "Preprocesamiento.ipynb",
      "provenance": [],
      "collapsed_sections": []
    },
    "kernelspec": {
      "name": "python3",
      "display_name": "Python 3"
    },
    "language_info": {
      "name": "python"
    }
  },
  "cells": [
    {
      "cell_type": "markdown",
      "source": [
        "#Ejercicios de Preprocesamiento\n",
        "\n",
        "Quispe Yahuira ronaldo"
      ],
      "metadata": {
        "id": "1KzC39QV46dB"
      }
    },
    {
      "cell_type": "code",
      "execution_count": 1,
      "metadata": {
        "colab": {
          "base_uri": "https://localhost:8080/"
        },
        "id": "OJHlNM6K4Fge",
        "outputId": "750076ad-77f7-4508-96bb-ea0429587c31"
      },
      "outputs": [
        {
          "output_type": "stream",
          "name": "stdout",
          "text": [
            "Collecting pyspark\n",
            "  Downloading pyspark-3.2.0.tar.gz (281.3 MB)\n",
            "\u001b[K     |████████████████████████████████| 281.3 MB 41 kB/s \n",
            "\u001b[?25hCollecting py4j==0.10.9.2\n",
            "  Downloading py4j-0.10.9.2-py2.py3-none-any.whl (198 kB)\n",
            "\u001b[K     |████████████████████████████████| 198 kB 57.2 MB/s \n",
            "\u001b[?25hBuilding wheels for collected packages: pyspark\n",
            "  Building wheel for pyspark (setup.py) ... \u001b[?25l\u001b[?25hdone\n",
            "  Created wheel for pyspark: filename=pyspark-3.2.0-py2.py3-none-any.whl size=281805912 sha256=470986ed8212cff69663b3a3c35d8df5d69d1c9722d789e00364ed8025318b0f\n",
            "  Stored in directory: /root/.cache/pip/wheels/0b/de/d2/9be5d59d7331c6c2a7c1b6d1a4f463ce107332b1ecd4e80718\n",
            "Successfully built pyspark\n",
            "Installing collected packages: py4j, pyspark\n",
            "Successfully installed py4j-0.10.9.2 pyspark-3.2.0\n"
          ]
        }
      ],
      "source": [
        "!pip install pyspark"
      ]
    },
    {
      "cell_type": "code",
      "source": [
        "from pyspark import SparkContext\n",
        "sc =SparkContext()"
      ],
      "metadata": {
        "id": "H_2A9Wgs4mYQ"
      },
      "execution_count": 2,
      "outputs": []
    },
    {
      "cell_type": "code",
      "source": [
        "#Creamos dos vectores \"a\",\"b\"\n",
        "a=[2,4,4,6]\n",
        "b=[5,5,7,8]\n",
        "p=3\n",
        "c=list(zip( a, b))\n",
        "print(c)"
      ],
      "metadata": {
        "colab": {
          "base_uri": "https://localhost:8080/"
        },
        "id": "ZnM08QgBvn8j",
        "outputId": "c9fe4183-0bbb-4906-9c43-75426f934c63"
      },
      "execution_count": 5,
      "outputs": [
        {
          "output_type": "stream",
          "name": "stdout",
          "text": [
            "[(2, 5), (4, 5), (4, 7), (6, 8)]\n"
          ]
        }
      ]
    },
    {
      "cell_type": "markdown",
      "source": [
        "#1.Distancia minkowski"
      ],
      "metadata": {
        "id": "eQzfuD84K9wu"
      }
    },
    {
      "cell_type": "code",
      "source": [
        "def rest(tupla,p):\n",
        "  return abs(tupla[0]-tupla[1])**p"
      ],
      "metadata": {
        "id": "_WKA8g1C0rYd"
      },
      "execution_count": 6,
      "outputs": []
    },
    {
      "cell_type": "code",
      "source": [
        "RDD1=sc.parallelize(c)\n",
        "#map asigna una funcion a cada registro RDD\n",
        "RDD2=RDD1.map(lambda x: rest(x,p))\n",
        "#.sum (): suma de valores\n",
        "RDD3=RDD2.sum()\n",
        "resul=RDD3**(1/p)\n",
        "resul"
      ],
      "metadata": {
        "colab": {
          "base_uri": "https://localhost:8080/"
        },
        "id": "wrPHiDMbx1Xz",
        "outputId": "a73516a5-3b25-428f-df59-8a63be052dc3"
      },
      "execution_count": 7,
      "outputs": [
        {
          "output_type": "execute_result",
          "data": {
            "text/plain": [
              "3.9790572078963917"
            ]
          },
          "metadata": {},
          "execution_count": 7
        }
      ]
    },
    {
      "cell_type": "code",
      "source": [
        "from scipy import spatial\n",
        "spatial.distance.minkowski(a, b, p=p, w=None)"
      ],
      "metadata": {
        "colab": {
          "base_uri": "https://localhost:8080/"
        },
        "id": "sSFJJn522HNd",
        "outputId": "8c797999-8f33-48b9-def2-497cc3d68b9e"
      },
      "execution_count": null,
      "outputs": [
        {
          "output_type": "execute_result",
          "data": {
            "text/plain": [
              "3.9790572078963917"
            ]
          },
          "metadata": {},
          "execution_count": 53
        }
      ]
    },
    {
      "cell_type": "markdown",
      "source": [
        "#2.cosenos"
      ],
      "metadata": {
        "id": "_6d6B3hOLzH4"
      }
    },
    {
      "cell_type": "code",
      "source": [
        "def Cosenos(x,y):\n",
        "    \"\"\"Calcula la similitud de cosenos de 2 RDD\n",
        "    \n",
        "    Args:\n",
        "        X (RDD numeric):array RDD numeric\n",
        "        Y (RDD numeric):array RDD numeric\n",
        "    Returns:\n",
        "        double: distancia de cosenos de vectores X e Y\n",
        "    \"\"\"\n",
        "    def punto(x,y):\n",
        "        \"\"\"Producto punto de 2 RDD\n",
        "    \n",
        "        Args:\n",
        "            X (RDD numeric):array RDD numeric\n",
        "            Y (RDD numeric):array RDD numeric\n",
        "        Returns:\n",
        "            double: producto punto de X e Y\n",
        "        \"\"\"\n",
        "        return x.zip(y).map(lambda x: x[0]*x[1]).reduce(lambda x , y :x+y) #reducimos sumando los productos \n",
        "            #Unimos los vectores generando un array de tupla(valor,valor)\n",
        "            #mapeamos los valores multiplicandolos\n",
        "    num=punto(x,y)#numerador producto punto de x e y\n",
        "    den=punto(x,x)*punto(y,y)#denominador producto de los vectores normales de x e y\n",
        "    return num/den"
      ],
      "metadata": {
        "id": "pebjcUzwC6u-"
      },
      "execution_count": 11,
      "outputs": []
    },
    {
      "cell_type": "code",
      "source": [
        "x = sc.parallelize(range(0,50),4)\n",
        "y = sc.parallelize(range(100, 150),4)\n",
        "print(sCosenos(x,y))\n"
      ],
      "metadata": {
        "id": "0ZXWPxmPAD47",
        "colab": {
          "base_uri": "https://localhost:8080/"
        },
        "outputId": "c2ff5359-a7b9-43be-9045-4dba0eb1a631"
      },
      "execution_count": 21,
      "outputs": [
        {
          "output_type": "stream",
          "name": "stdout",
          "text": [
            "5.1313658596339945e-06\n"
          ]
        }
      ]
    },
    {
      "cell_type": "markdown",
      "source": [
        "#3. Escalonamiento"
      ],
      "metadata": {
        "id": "Oj0YbLCvy0xW"
      }
    },
    {
      "cell_type": "code",
      "source": [
        "x = [1,2,5,3,4,10,20,38,13,17,59,45,54,34]\n",
        "xRDD = sc.parallelize(x) #Creamos nuestro RDD\n",
        "minRDD = xRDD.max()#Hallamos el valor maximo\n",
        "maxRDD = xRDD.min()#Hallamo el valor minimo\n",
        "scaleRDD = xRDD.map(lambda x: (x - minRDD) / (maxRDD - minRDD))#Hallamos el escalonamineto aplicando las variables maximo y minimo\n",
        "scaleRDD.collect()#Mostramos los datos"
      ],
      "metadata": {
        "colab": {
          "base_uri": "https://localhost:8080/"
        },
        "id": "RN8Qha7kzGQ9",
        "outputId": "24cd5fc1-7a95-4896-db01-903af6c8b088"
      },
      "execution_count": 24,
      "outputs": [
        {
          "output_type": "execute_result",
          "data": {
            "text/plain": [
              "[1.0,\n",
              " 0.9827586206896551,\n",
              " 0.9310344827586207,\n",
              " 0.9655172413793104,\n",
              " 0.9482758620689655,\n",
              " 0.8448275862068966,\n",
              " 0.6724137931034483,\n",
              " 0.3620689655172414,\n",
              " 0.7931034482758621,\n",
              " 0.7241379310344828,\n",
              " -0.0,\n",
              " 0.2413793103448276,\n",
              " 0.08620689655172414,\n",
              " 0.43103448275862066]"
            ]
          },
          "metadata": {},
          "execution_count": 24
        }
      ]
    },
    {
      "cell_type": "markdown",
      "source": [
        "#4.Normalizacion"
      ],
      "metadata": {
        "id": "bZSA2uRR0HdE"
      }
    },
    {
      "cell_type": "code",
      "source": [
        "import math\n",
        "x = [1,3,5,7]\n",
        "xRDD = sc.parallelize(x)#Creamos nuestro RDD\n",
        "nxRDD = (xRDD.map(lambda x: x*2).sum()) * (1/2)#Normalizamos\n",
        "normRDD = xRDD.map(lambda x: x/nxRDD) \n",
        "normRDD.collect()"
      ],
      "metadata": {
        "colab": {
          "base_uri": "https://localhost:8080/"
        },
        "id": "DF0D-lTay5G_",
        "outputId": "456d006a-28a4-480a-b2c7-2802e9fe925f"
      },
      "execution_count": 26,
      "outputs": [
        {
          "output_type": "execute_result",
          "data": {
            "text/plain": [
              "[0.0625, 0.1875, 0.3125, 0.4375]"
            ]
          },
          "metadata": {},
          "execution_count": 26
        }
      ]
    },
    {
      "cell_type": "markdown",
      "source": [
        "#5.Binario"
      ],
      "metadata": {
        "id": "swA4ihyc1Zz0"
      }
    },
    {
      "cell_type": "markdown",
      "source": [
        "Extrae los elementos [str]y los converite en tuplas (str,int)\n",
        "    Args:\n",
        "        X (Doc de array de str):\n",
        "    Retorna: [(str,int)]: Vector de tuplas\n"
      ],
      "metadata": {
        "id": "2LL5v8MM1lSW"
      }
    },
    {
      "cell_type": "code",
      "source": [
        "def Binario(Doc):\n",
        "    val=map(lambda x:(x,1),Doc)\n",
        "    return list(val)"
      ],
      "metadata": {
        "id": "cIHN1tqe1d_K"
      },
      "execution_count": 29,
      "outputs": []
    },
    {
      "cell_type": "code",
      "source": [
        "texto=[['Ronaldo', 'Ronaldo', 'Ronaldo', 'Ronaldo', 'Futbol', 'Real Madrid']\n",
        "    ,['Ramos', ' Ramos', ' Ramos', ' Ronaldo', ' Messi', ' Iniesta', ' Futbol', 'Real Madrid']\n",
        "    ,['Messi', ' Messi', ' Iniesta', ' Iniesta ', 'Iniesta', ' Ramos', ' Futbol', 'Barça']]\n",
        "t=texto[0]\n",
        "print(Binario(t))\n",
        "Vec = sc.parallelize(texto,4)\n",
        "Vec2 = Vec.map(lambda x:Binario(x))\n",
        "Vec2.collect()\n"
      ],
      "metadata": {
        "colab": {
          "base_uri": "https://localhost:8080/"
        },
        "id": "oFYzdHP-1y5V",
        "outputId": "701746e8-0631-48be-a81b-3224efd1ca4d"
      },
      "execution_count": 36,
      "outputs": [
        {
          "output_type": "stream",
          "name": "stdout",
          "text": [
            "[('Ronaldo', 1), ('Ronaldo', 1), ('Ronaldo', 1), ('Ronaldo', 1), ('Futbol', 1), ('Real Madrid', 1)]\n"
          ]
        },
        {
          "output_type": "execute_result",
          "data": {
            "text/plain": [
              "[[('Ronaldo', 1),\n",
              "  ('Ronaldo', 1),\n",
              "  ('Ronaldo', 1),\n",
              "  ('Ronaldo', 1),\n",
              "  ('Futbol', 1),\n",
              "  ('Real Madrid', 1)],\n",
              " [('Ramos', 1),\n",
              "  (' Ramos', 1),\n",
              "  (' Ramos', 1),\n",
              "  (' Ronaldo', 1),\n",
              "  (' Messi', 1),\n",
              "  (' Iniesta', 1),\n",
              "  (' Futbol', 1),\n",
              "  ('Real Madrid', 1)],\n",
              " [('Messi', 1),\n",
              "  (' Messi', 1),\n",
              "  (' Iniesta', 1),\n",
              "  (' Iniesta ', 1),\n",
              "  ('Iniesta', 1),\n",
              "  (' Ramos', 1),\n",
              "  (' Futbol', 1),\n",
              "  ('Barça', 1)]]"
            ]
          },
          "metadata": {},
          "execution_count": 36
        }
      ]
    }
  ]
}