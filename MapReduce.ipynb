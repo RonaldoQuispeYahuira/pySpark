{
  "nbformat": 4,
  "nbformat_minor": 0,
  "metadata": {
    "colab": {
      "name": "MapReduce.ipynb",
      "provenance": []
    },
    "kernelspec": {
      "name": "python3",
      "display_name": "Python 3"
    },
    "language_info": {
      "name": "python"
    }
  },
  "cells": [
    {
      "cell_type": "markdown",
      "source": [
        "#Ejercicios de MapReduce\n",
        "\n",
        "Quispe Yahuira ronaldo"
      ],
      "metadata": {
        "id": "ke0TZwtj5FFL"
      }
    },
    {
      "cell_type": "code",
      "execution_count": 1,
      "metadata": {
        "colab": {
          "base_uri": "https://localhost:8080/"
        },
        "id": "tmOro2bf4sL1",
        "outputId": "619b1797-916c-4e5b-8c25-c3952faf96bc"
      },
      "outputs": [
        {
          "output_type": "stream",
          "name": "stdout",
          "text": [
            "Collecting pyspark\n",
            "  Downloading pyspark-3.2.0.tar.gz (281.3 MB)\n",
            "\u001b[K     |████████████████████████████████| 281.3 MB 37 kB/s \n",
            "\u001b[?25hCollecting py4j==0.10.9.2\n",
            "  Downloading py4j-0.10.9.2-py2.py3-none-any.whl (198 kB)\n",
            "\u001b[K     |████████████████████████████████| 198 kB 37.0 MB/s \n",
            "\u001b[?25hBuilding wheels for collected packages: pyspark\n",
            "  Building wheel for pyspark (setup.py) ... \u001b[?25l\u001b[?25hdone\n",
            "  Created wheel for pyspark: filename=pyspark-3.2.0-py2.py3-none-any.whl size=281805912 sha256=fbb5f394a71fc70c1a37fe53945c0a88bfcecde45d685457135a38884e5e71e2\n",
            "  Stored in directory: /root/.cache/pip/wheels/0b/de/d2/9be5d59d7331c6c2a7c1b6d1a4f463ce107332b1ecd4e80718\n",
            "Successfully built pyspark\n",
            "Installing collected packages: py4j, pyspark\n",
            "Successfully installed py4j-0.10.9.2 pyspark-3.2.0\n"
          ]
        }
      ],
      "source": [
        "!pip install pyspark"
      ]
    },
    {
      "cell_type": "code",
      "source": [
        "from pyspark import SparkContext\n",
        "sc =SparkContext()"
      ],
      "metadata": {
        "id": "QV5yVHJ_43cd"
      },
      "execution_count": 2,
      "outputs": []
    },
    {
      "cell_type": "code",
      "source": [
        "import math"
      ],
      "metadata": {
        "id": "Q6cZ5Spc_159"
      },
      "execution_count": 10,
      "outputs": []
    },
    {
      "cell_type": "markdown",
      "source": [
        "#1 BagofWords"
      ],
      "metadata": {
        "id": "fRh0ikKH6uEe"
      }
    },
    {
      "cell_type": "markdown",
      "source": [
        "Cambia la letras a minusculas,Filtra letra mayores a 2,Quita espacios en blanco"
      ],
      "metadata": {
        "id": "AB6rLi0c67a8"
      }
    },
    {
      "cell_type": "code",
      "source": [
        "def bagofwords(Doc):\n",
        "    x=Doc.strip().lower().split()\n",
        "    return list(filter(lambda x:len(x)>2,x))\n",
        "Corpus=[\"La Informática es la rama de la Ingeniería que estudia el hardware\",  \n",
        "        \"las redes de datos y el software necesarios para tratar información de forma automática\"]\n",
        "Texto=sc.parallelize(Corpus,6)\n",
        "Texto=Texto.map(bagofwords)\n",
        "Texto.take(2)"
      ],
      "metadata": {
        "colab": {
          "base_uri": "https://localhost:8080/"
        },
        "id": "XbskrEz-6rn-",
        "outputId": "979d1394-4af8-4d95-8799-7eab1dd10937"
      },
      "execution_count": 11,
      "outputs": [
        {
          "output_type": "execute_result",
          "data": {
            "text/plain": [
              "[['informática', 'rama', 'ingeniería', 'que', 'estudia', 'hardware'],\n",
              " ['las',\n",
              "  'redes',\n",
              "  'datos',\n",
              "  'software',\n",
              "  'necesarios',\n",
              "  'para',\n",
              "  'tratar',\n",
              "  'información',\n",
              "  'forma',\n",
              "  'automática']]"
            ]
          },
          "metadata": {},
          "execution_count": 11
        }
      ]
    },
    {
      "cell_type": "markdown",
      "source": [
        "#2.TF"
      ],
      "metadata": {
        "id": "yQ91qE4a6Zo7"
      }
    },
    {
      "cell_type": "code",
      "source": [
        "\n",
        "def TF(Doc):\n",
        "    total=len(Doc)#Obtenemos el total de palabras de doc\n",
        "    DocSR=list(set(Doc))#Lista sin repeticiones\n",
        "    mapeo=list(map(lambda x:(x,Doc.count(x)),DocSR))#Obtenemos el tf para cada palabra\n",
        "    tf=list(map(lambda x:(x[0],1+math.log10(x[1]/total)),mapeo))\n",
        "    return (tf)\n",
        "Corpus=[\"La Informática es la rama de la Ingeniería que estudia el hardware\",  \n",
        "        \"las redes de datos y el software necesarios para tratar información de forma automática\"]\n",
        "Texto=sc.parallelize(Corpus,4)\n",
        "Texto=Texto.map(bagofwords)\n",
        "TextoTF=Texto.map(TF)\n",
        "TextoTF.take(2)"
      ],
      "metadata": {
        "colab": {
          "base_uri": "https://localhost:8080/"
        },
        "id": "8RbDccqO6ZUg",
        "outputId": "4d850a40-8e41-45e9-f61b-e257c58ca233"
      },
      "execution_count": 12,
      "outputs": [
        {
          "output_type": "execute_result",
          "data": {
            "text/plain": [
              "[[('que', 0.22184874961635637),\n",
              "  ('ingeniería', 0.22184874961635637),\n",
              "  ('rama', 0.22184874961635637),\n",
              "  ('estudia', 0.22184874961635637),\n",
              "  ('informática', 0.22184874961635637),\n",
              "  ('hardware', 0.22184874961635637)],\n",
              " [('automática', 0.0),\n",
              "  ('las', 0.0),\n",
              "  ('redes', 0.0),\n",
              "  ('tratar', 0.0),\n",
              "  ('software', 0.0),\n",
              "  ('datos', 0.0),\n",
              "  ('para', 0.0),\n",
              "  ('necesarios', 0.0),\n",
              "  ('forma', 0.0),\n",
              "  ('información', 0.0)]]"
            ]
          },
          "metadata": {},
          "execution_count": 12
        }
      ]
    },
    {
      "cell_type": "markdown",
      "source": [
        "#3.IDF"
      ],
      "metadata": {
        "id": "pkQb9HHfABaz"
      }
    },
    {
      "cell_type": "code",
      "source": [
        "def IDF(Doc,corpus):\n",
        "    DocP=Doc.flatMap(lambda x:x)\n",
        "    DocP=DocP.map(lambda x:x[0]).distinct()\n",
        "    total=corpus.count() #Total documentos en corpus\n",
        "    corpus2=corpus.collect()\n",
        "    IDF=DocP.map(lambda x:list(map(lambda y:(x,1 if x in y else 0),corpus2)))#Extraer cantida de veces de cada palabra en los documentos\n",
        "    IDF2=IDF.flatMap(lambda x:x)\n",
        "    IDF2=IDF2.groupByKey().map(lambda x:(x[0],sum(x[1])))\n",
        "    IDF2=IDF2.map(lambda x:(x[0],math.log10(1+total/x[1])))\n",
        "    return IDF2 #corpus con IDF de cada palabra sin repeticiones\n",
        "    Corpus=[\"La Informática es la rama de la Ingeniería que estudia el hardware\",  \n",
        "        \"las redes de datos y el software necesarios para tratar información de forma automática\"]\n",
        "Texto=sc.parallelize(Corpus,4)\n",
        "Texto=Texto.map(bagofwords)\n",
        "TextoTF=Texto.map(TF)\n",
        "TextoIDF=IDF(TextoTF,Texto)\n",
        "TextoIDF.collect()"
      ],
      "metadata": {
        "colab": {
          "base_uri": "https://localhost:8080/"
        },
        "id": "ZQ2AKEtZAEUL",
        "outputId": "f81f0b2c-dfac-4514-8c90-ece7ee8ccb70"
      },
      "execution_count": 13,
      "outputs": [
        {
          "output_type": "execute_result",
          "data": {
            "text/plain": [
              "[('informática', 0.47712125471966244),\n",
              " ('hardware', 0.47712125471966244),\n",
              " ('automática', 0.47712125471966244),\n",
              " ('tratar', 0.47712125471966244),\n",
              " ('datos', 0.47712125471966244),\n",
              " ('necesarios', 0.47712125471966244),\n",
              " ('las', 0.47712125471966244),\n",
              " ('redes', 0.47712125471966244),\n",
              " ('software', 0.47712125471966244),\n",
              " ('forma', 0.47712125471966244),\n",
              " ('que', 0.47712125471966244),\n",
              " ('ingeniería', 0.47712125471966244),\n",
              " ('rama', 0.47712125471966244),\n",
              " ('para', 0.47712125471966244),\n",
              " ('estudia', 0.47712125471966244),\n",
              " ('información', 0.47712125471966244)]"
            ]
          },
          "metadata": {},
          "execution_count": 13
        }
      ]
    },
    {
      "cell_type": "markdown",
      "source": [
        "4. TF-IDF"
      ],
      "metadata": {
        "id": "TnBT2gGqAUdv"
      }
    },
    {
      "cell_type": "code",
      "source": [
        "def RecIDF(word,corpusIDF):\n",
        "        L=corpusIDF\n",
        "        EL=list(filter(lambda x:x[0]==word,L))\n",
        "        return EL[0][1]\n",
        "def TF_IDF(TextoTF,TextoIDF):\n",
        "    corpusIDF=TextoIDF.collect()\n",
        "    TFIDF=TextoTF.map(lambda x:list(map((lambda y:(y[0],y[1]*RecIDF(y[0],corpusIDF))),x)))\n",
        "    return  TFIDF #texto con el TFIDF de cada palabra en DOC\n",
        "Corpus=[\"La Informática es la rama de la Ingeniería que estudia el hardware\",  \n",
        "        \"las redes de datos y el software necesarios para tratar información de forma automática\"]\n",
        "Texto=sc.parallelize(Corpus,4)\n",
        "Texto=Texto.map(bagofwords)\n",
        "TextoTF=Texto.map(TF)\n",
        "TextoIDF=IDF(TextoTF,Texto)\n",
        "TextoTFIDF=TF_IDF(TextoTF,TextoIDF)\n",
        "TextoTFIDF.collect()"
      ],
      "metadata": {
        "colab": {
          "base_uri": "https://localhost:8080/"
        },
        "id": "-AbKWGGqAbco",
        "outputId": "b5d98442-c780-4b0b-e551-d3476e55b2df"
      },
      "execution_count": 15,
      "outputs": [
        {
          "output_type": "execute_result",
          "data": {
            "text/plain": [
              "[[('que', 0.10584875377494418),\n",
              "  ('ingeniería', 0.10584875377494418),\n",
              "  ('rama', 0.10584875377494418),\n",
              "  ('estudia', 0.10584875377494418),\n",
              "  ('informática', 0.10584875377494418),\n",
              "  ('hardware', 0.10584875377494418)],\n",
              " [('automática', 0.0),\n",
              "  ('las', 0.0),\n",
              "  ('redes', 0.0),\n",
              "  ('tratar', 0.0),\n",
              "  ('software', 0.0),\n",
              "  ('datos', 0.0),\n",
              "  ('para', 0.0),\n",
              "  ('necesarios', 0.0),\n",
              "  ('forma', 0.0),\n",
              "  ('información', 0.0)]]"
            ]
          },
          "metadata": {},
          "execution_count": 15
        }
      ]
    }
  ]
}